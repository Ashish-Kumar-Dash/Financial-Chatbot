{
 "cells": [
  {
   "cell_type": "code",
   "execution_count": 1,
   "id": "42f5df44-0f0d-45bc-8ca2-78efe78ece4a",
   "metadata": {},
   "outputs": [],
   "source": [
    "import pandas as pd\n"
   ]
  },
  {
   "cell_type": "code",
   "execution_count": 2,
   "id": "830c358a-0613-4dd3-acc8-a8f017dda05a",
   "metadata": {},
   "outputs": [
    {
     "name": "stdout",
     "output_type": "stream",
     "text": [
      "     Company  Fiscal Year  Total Revenue (B USD)  Net Income (B USD)  \\\n",
      "0  Microsoft         2024                  211.9                72.7   \n",
      "1  Microsoft         2023                  198.3                72.5   \n",
      "2  Microsoft         2022                  168.1                61.3   \n",
      "3      Tesla         2024                  107.5                 2.3   \n",
      "4      Tesla         2023                   81.5                12.6   \n",
      "\n",
      "   Total Assets (B USD)  Total Liabilities (B USD)  \\\n",
      "0                 411.8                      183.7   \n",
      "1                 364.8                      161.1   \n",
      "2                 333.8                      153.7   \n",
      "3                  82.0                       45.0   \n",
      "4                  82.0                       29.0   \n",
      "\n",
      "   Operating Cash Flow (B USD)  \n",
      "0                         87.6  \n",
      "1                         79.4  \n",
      "2                         76.7  \n",
      "3                         12.6  \n",
      "4                         16.1  \n"
     ]
    }
   ],
   "source": [
    "excel_path = r'C:\\Users\\akd24\\Downloads\\b.xlsx'\n",
    "df_excel = pd.read_excel(excel_path)\n",
    "csv_path = r'C:\\Users\\akd24\\Downloads\\b.csv'\n",
    "df_excel.to_csv(csv_path, index=False)\n",
    "df = pd.read_csv(csv_path)\n",
    "print(df.head())"
   ]
  },
  {
   "cell_type": "code",
   "execution_count": 3,
   "id": "6bb5002c-159f-4a88-be29-a85b5c53d1cd",
   "metadata": {},
   "outputs": [],
   "source": [
    "df = df.sort_values(by=['Company', 'Fiscal Year'])"
   ]
  },
  {
   "cell_type": "code",
   "execution_count": 6,
   "id": "da8cc9ec-058f-4602-9558-b46cc0bc2167",
   "metadata": {},
   "outputs": [],
   "source": [
    "df['Revenue Growth (%)'] = df.groupby('Company')['Total Revenue (B USD)'].pct_change(fill_method=None) * 100\n",
    "df['Net Income Growth (%)'] = df.groupby('Company')['Net Income (B USD)'].pct_change(fill_method=None) * 100\n",
    "df['Asset Growth (%)'] = df.groupby('Company')['Total Assets (B USD)'].pct_change(fill_method=None) * 100\n",
    "df['Liability Growth (%)'] = df.groupby('Company')['Total Liabilities (B USD)'].pct_change(fill_method=None) * 100\n",
    "df['Cash Flow Growth (%)'] = df.groupby('Company')['Operating Cash Flow (B USD)'].pct_change(fill_method=None) * 100\n"
   ]
  },
  {
   "cell_type": "code",
   "execution_count": 8,
   "id": "b4a10ea2-8645-4862-9193-273246d755e4",
   "metadata": {},
   "outputs": [
    {
     "name": "stdout",
     "output_type": "stream",
     "text": [
      "Average Year-over-Year Growth by Company:\n",
      "           Revenue Growth (%)  Net Income Growth (%)  Asset Growth (%)  \\\n",
      "Company                                                                  \n",
      "Apple                   -1.43                   0.14              0.51   \n",
      "Microsoft               12.41                   9.27             11.09   \n",
      "Tesla                   41.69                 -40.87             16.13   \n",
      "\n",
      "           Liability Growth (%)  Cash Flow Growth (%)  \n",
      "Company                                                \n",
      "Apple                     16.49                  8.65  \n",
      "Microsoft                  9.42                  6.92  \n",
      "Tesla                     29.37                 -7.20  \n"
     ]
    }
   ],
   "source": [
    "avg_growth = df.groupby('Company')[[\n",
    "    'Revenue Growth (%)',\n",
    "    'Net Income Growth (%)',\n",
    "    'Asset Growth (%)',\n",
    "    'Liability Growth (%)',\n",
    "    'Cash Flow Growth (%)'\n",
    "]].mean().round(2)\n",
    "\n",
    "print(\"Average Year-over-Year Growth by Company:\")\n",
    "print(avg_growth)\n"
   ]
  },
  {
   "cell_type": "code",
   "execution_count": 10,
   "id": "5eb9aefc-13de-4d19-add5-14ab8742f634",
   "metadata": {},
   "outputs": [
    {
     "name": "stdout",
     "output_type": "stream",
     "text": [
      "     Company  Fiscal Year  Total Revenue (B USD)  Net Income (B USD)  \\\n",
      "6      Apple         2024                  383.0                99.8   \n",
      "0  Microsoft         2024                  211.9                72.7   \n",
      "3      Tesla         2024                  107.5                 2.3   \n",
      "\n",
      "   Total Assets (B USD)  Total Liabilities (B USD)  \\\n",
      "6                 352.8                      308.0   \n",
      "0                 411.8                      183.7   \n",
      "3                  82.0                       45.0   \n",
      "\n",
      "   Operating Cash Flow (B USD)  Revenue Growth (%)  Net Income Growth (%)  \\\n",
      "6                        122.0           -2.865838               5.385428   \n",
      "0                         87.6            6.858296               0.275862   \n",
      "3                         12.6           31.901840             -81.746032   \n",
      "\n",
      "   Asset Growth (%)  Liability Growth (%)  Cash Flow Growth (%)  \n",
      "6          0.512821             16.490166             17.307692  \n",
      "0         12.883772             14.028554             10.327456  \n",
      "3          0.000000             55.172414            -21.739130  \n"
     ]
    }
   ],
   "source": [
    "\n",
    "print(df[df['Fiscal Year'] == 2024])\n"
   ]
  },
  {
   "cell_type": "markdown",
   "id": "3e43e85f-8088-4ea5-b76b-d7c405497450",
   "metadata": {},
   "source": [
    "\n",
    "Microsoft showed steady revenue growth over the past three years, with strong and consistent net income. Operating cash flow increased year-over-year, indicating solid liquidity.\n",
    "\n",
    "Tesla had volatile net income, dropping significantly in FY 2024 despite higher revenue. This may indicate rising costs or margin pressure. Operating cash flow also declined.\n",
    "\n",
    "Apple maintained very strong net income and operating cash flow, though revenue remained relatively flat from FY 2022 to 2024. Their liabilities grew substantially in 2024.\n",
    "---\n",
    "- Microsoft is the most stable performer across metrics.\n",
    "- Tesla shows potential risk in 2024 performance.\n",
    "- Apple leads in profitability and cash flow but with slowing revenue growth.\n"
   ]
  }
 ],
 "metadata": {
  "kernelspec": {
   "display_name": "Python 3 (ipykernel)",
   "language": "python",
   "name": "python3"
  },
  "language_info": {
   "codemirror_mode": {
    "name": "ipython",
    "version": 3
   },
   "file_extension": ".py",
   "mimetype": "text/x-python",
   "name": "python",
   "nbconvert_exporter": "python",
   "pygments_lexer": "ipython3",
   "version": "3.12.7"
  }
 },
 "nbformat": 4,
 "nbformat_minor": 5
}
